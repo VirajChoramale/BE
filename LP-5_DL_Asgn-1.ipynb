{
  "cells": [
    {
      "cell_type": "code",
      "execution_count": null,
      "metadata": {
        "colab": {
          "base_uri": "https://localhost:8080/",
          "height": 1000
        },
        "id": "NwcENUehsvYm",
        "outputId": "7359c1bb-c37b-4b9f-ee9d-676e8a4e75b7"
      },
      "outputs": [
        {
          "output_type": "error",
          "ename": "ImportError",
          "evalue": "ignored",
          "traceback": [
            "\u001b[0;31m---------------------------------------------------------------------------\u001b[0m",
            "\u001b[0;31mImportError\u001b[0m                               Traceback (most recent call last)",
            "\u001b[0;32m<ipython-input-1-2e32fb20ad4c>\u001b[0m in \u001b[0;36m<cell line: 1>\u001b[0;34m()\u001b[0m\n\u001b[0;32m----> 1\u001b[0;31m \u001b[0;32mfrom\u001b[0m \u001b[0msklearn\u001b[0m\u001b[0;34m.\u001b[0m\u001b[0mdatasets\u001b[0m \u001b[0;32mimport\u001b[0m \u001b[0mload_boston\u001b[0m\u001b[0;34m\u001b[0m\u001b[0;34m\u001b[0m\u001b[0m\n\u001b[0m\u001b[1;32m      2\u001b[0m \u001b[0;32mimport\u001b[0m \u001b[0mpandas\u001b[0m \u001b[0;32mas\u001b[0m \u001b[0mpd\u001b[0m\u001b[0;34m\u001b[0m\u001b[0;34m\u001b[0m\u001b[0m\n\u001b[1;32m      3\u001b[0m \u001b[0;34m\u001b[0m\u001b[0m\n\u001b[1;32m      4\u001b[0m \u001b[0mboston_dataset\u001b[0m \u001b[0;34m=\u001b[0m \u001b[0mload_boston\u001b[0m\u001b[0;34m(\u001b[0m\u001b[0;34m)\u001b[0m\u001b[0;34m\u001b[0m\u001b[0;34m\u001b[0m\u001b[0m\n\u001b[1;32m      5\u001b[0m \u001b[0;34m\u001b[0m\u001b[0m\n",
            "\u001b[0;32m/usr/local/lib/python3.10/dist-packages/sklearn/datasets/__init__.py\u001b[0m in \u001b[0;36m__getattr__\u001b[0;34m(name)\u001b[0m\n\u001b[1;32m    154\u001b[0m             \"\"\"\n\u001b[1;32m    155\u001b[0m         )\n\u001b[0;32m--> 156\u001b[0;31m         \u001b[0;32mraise\u001b[0m \u001b[0mImportError\u001b[0m\u001b[0;34m(\u001b[0m\u001b[0mmsg\u001b[0m\u001b[0;34m)\u001b[0m\u001b[0;34m\u001b[0m\u001b[0;34m\u001b[0m\u001b[0m\n\u001b[0m\u001b[1;32m    157\u001b[0m     \u001b[0;32mtry\u001b[0m\u001b[0;34m:\u001b[0m\u001b[0;34m\u001b[0m\u001b[0;34m\u001b[0m\u001b[0m\n\u001b[1;32m    158\u001b[0m         \u001b[0;32mreturn\u001b[0m \u001b[0mglobals\u001b[0m\u001b[0;34m(\u001b[0m\u001b[0;34m)\u001b[0m\u001b[0;34m[\u001b[0m\u001b[0mname\u001b[0m\u001b[0;34m]\u001b[0m\u001b[0;34m\u001b[0m\u001b[0;34m\u001b[0m\u001b[0m\n",
            "\u001b[0;31mImportError\u001b[0m: \n`load_boston` has been removed from scikit-learn since version 1.2.\n\nThe Boston housing prices dataset has an ethical problem: as\ninvestigated in [1], the authors of this dataset engineered a\nnon-invertible variable \"B\" assuming that racial self-segregation had a\npositive impact on house prices [2]. Furthermore the goal of the\nresearch that led to the creation of this dataset was to study the\nimpact of air quality but it did not give adequate demonstration of the\nvalidity of this assumption.\n\nThe scikit-learn maintainers therefore strongly discourage the use of\nthis dataset unless the purpose of the code is to study and educate\nabout ethical issues in data science and machine learning.\n\nIn this special case, you can fetch the dataset from the original\nsource::\n\n    import pandas as pd\n    import numpy as np\n\n    data_url = \"http://lib.stat.cmu.edu/datasets/boston\"\n    raw_df = pd.read_csv(data_url, sep=\"\\s+\", skiprows=22, header=None)\n    data = np.hstack([raw_df.values[::2, :], raw_df.values[1::2, :2]])\n    target = raw_df.values[1::2, 2]\n\nAlternative datasets include the California housing dataset and the\nAmes housing dataset. You can load the datasets as follows::\n\n    from sklearn.datasets import fetch_california_housing\n    housing = fetch_california_housing()\n\nfor the California housing dataset and::\n\n    from sklearn.datasets import fetch_openml\n    housing = fetch_openml(name=\"house_prices\", as_frame=True)\n\nfor the Ames housing dataset.\n\n[1] M Carlisle.\n\"Racist data destruction?\"\n<https://medium.com/@docintangible/racist-data-destruction-113e3eff54a8>\n\n[2] Harrison Jr, David, and Daniel L. Rubinfeld.\n\"Hedonic housing prices and the demand for clean air.\"\nJournal of environmental economics and management 5.1 (1978): 81-102.\n<https://www.researchgate.net/publication/4974606_Hedonic_housing_prices_and_the_demand_for_clean_air>\n",
            "",
            "\u001b[0;31m---------------------------------------------------------------------------\u001b[0;32m\nNOTE: If your import is failing due to a missing package, you can\nmanually install dependencies using either !pip or !apt.\n\nTo view examples of installing some common dependencies, click the\n\"Open Examples\" button below.\n\u001b[0;31m---------------------------------------------------------------------------\u001b[0m\n"
          ],
          "errorDetails": {
            "actions": [
              {
                "action": "open_url",
                "actionText": "Open Examples",
                "url": "/notebooks/snippets/importing_libraries.ipynb"
              }
            ]
          }
        }
      ],
      "source": [
        "from sklearn.datasets import load_boston\n",
        "import pandas as pd\n",
        "\n",
        "boston_dataset = load_boston()\n",
        "\n",
        "df = pd.DataFrame(boston_dataset.data, columns=boston_dataset.feature_names)\n",
        "df['MEDV'] = boston_dataset.target\n",
        "\n",
        "df.head(n=10)   "
      ]
    },
    {
      "cell_type": "markdown",
      "source": [
        "# New Section"
      ],
      "metadata": {
        "id": "KkTyee7N-hma"
      }
    },
    {
      "cell_type": "code",
      "execution_count": 1,
      "metadata": {
        "id": "MO3VlZuL6LmV"
      },
      "outputs": [],
      "source": [
        "# If load_boston does not work then download the data and use this.\n",
        "# Data : https://github.com/afnan47/sem8/blob/master/DL/1_boston_housing.csv\n",
        "import pandas as pd\n",
        "df = pd.read_csv(\"./1_boston_housing.csv\")"
      ]
    },
    {
      "cell_type": "code",
      "execution_count": 2,
      "metadata": {
        "id": "4FEDjg8rsyi0"
      },
      "outputs": [],
      "source": [
        "from sklearn.model_selection import train_test_split\n",
        "\n",
        "X = df.loc[:, df.columns != 'MEDV']\n",
        "y = df.loc[:, df.columns == 'MEDV']\n",
        "X_train, X_test, y_train, y_test = train_test_split(X, y, test_size=0.3, random_state=123)"
      ]
    },
    {
      "cell_type": "code",
      "execution_count": 3,
      "metadata": {
        "id": "vwAWvqa76LmW"
      },
      "outputs": [],
      "source": [
        "from sklearn.preprocessing import MinMaxScaler\n",
        "mms = MinMaxScaler()\n",
        "mms.fit(X_train)\n",
        "X_train = mms.transform(X_train)\n",
        "X_test = mms.transform(X_test)"
      ]
    },
    {
      "cell_type": "code",
      "execution_count": 4,
      "metadata": {
        "colab": {
          "base_uri": "https://localhost:8080/"
        },
        "id": "VL8VMy_fs3fl",
        "outputId": "989bc7a8-8007-4dcf-b81f-da38833c4236"
      },
      "outputs": [
        {
          "output_type": "stream",
          "name": "stdout",
          "text": [
            "Model: \"sequential\"\n",
            "_________________________________________________________________\n",
            " Layer (type)                Output Shape              Param #   \n",
            "=================================================================\n",
            " dense_1 (Dense)             (None, 128)               1792      \n",
            "                                                                 \n",
            " dense_2 (Dense)             (None, 64)                8256      \n",
            "                                                                 \n",
            " dense_output (Dense)        (None, 1)                 65        \n",
            "                                                                 \n",
            "=================================================================\n",
            "Total params: 10,113\n",
            "Trainable params: 10,113\n",
            "Non-trainable params: 0\n",
            "_________________________________________________________________\n"
          ]
        }
      ],
      "source": [
        "from tensorflow.keras.models import Sequential\n",
        "from tensorflow.keras.layers import Dense\n",
        "\n",
        "model = Sequential()\n",
        "\n",
        "model.add(Dense(128, input_shape=(13, ), activation='relu', name='dense_1'))\n",
        "model.add(Dense(64, activation='relu', name='dense_2'))\n",
        "model.add(Dense(1, activation='linear', name='dense_output'))\n",
        "\n",
        "model.compile(optimizer='adam', loss='mse', metrics=['mae'])\n",
        "model.summary()"
      ]
    },
    {
      "cell_type": "code",
      "execution_count": 5,
      "metadata": {
        "colab": {
          "base_uri": "https://localhost:8080/"
        },
        "id": "Y7m71ooKs5of",
        "outputId": "6c37d1cd-f652-45df-d8c6-a7452927a294"
      },
      "outputs": [
        {
          "output_type": "stream",
          "name": "stdout",
          "text": [
            "Epoch 1/100\n",
            "11/11 [==============================] - 1s 22ms/step - loss: 582.2178 - mae: 22.2626 - val_loss: 591.3015 - val_mae: 22.3418\n",
            "Epoch 2/100\n",
            "11/11 [==============================] - 0s 5ms/step - loss: 530.6021 - mae: 21.0242 - val_loss: 531.2715 - val_mae: 20.9195\n",
            "Epoch 3/100\n",
            "11/11 [==============================] - 0s 6ms/step - loss: 462.6491 - mae: 19.2584 - val_loss: 446.1381 - val_mae: 18.6973\n",
            "Epoch 4/100\n",
            "11/11 [==============================] - 0s 5ms/step - loss: 368.6873 - mae: 16.5625 - val_loss: 333.1908 - val_mae: 15.1961\n",
            "Epoch 5/100\n",
            "11/11 [==============================] - 0s 5ms/step - loss: 256.1788 - mae: 12.9291 - val_loss: 216.3309 - val_mae: 11.0785\n",
            "Epoch 6/100\n",
            "11/11 [==============================] - 0s 5ms/step - loss: 166.0631 - mae: 9.9852 - val_loss: 142.4856 - val_mae: 8.3898\n",
            "Epoch 7/100\n",
            "11/11 [==============================] - 0s 5ms/step - loss: 130.4543 - mae: 8.8330 - val_loss: 122.7122 - val_mae: 8.0999\n",
            "Epoch 8/100\n",
            "11/11 [==============================] - 0s 6ms/step - loss: 117.6119 - mae: 8.3273 - val_loss: 112.7214 - val_mae: 7.7352\n",
            "Epoch 9/100\n",
            "11/11 [==============================] - 0s 5ms/step - loss: 102.8193 - mae: 7.6652 - val_loss: 104.5243 - val_mae: 7.3493\n",
            "Epoch 10/100\n",
            "11/11 [==============================] - 0s 5ms/step - loss: 90.6655 - mae: 7.0246 - val_loss: 97.2065 - val_mae: 6.9919\n",
            "Epoch 11/100\n",
            "11/11 [==============================] - 0s 5ms/step - loss: 80.2380 - mae: 6.5126 - val_loss: 89.5817 - val_mae: 6.6858\n",
            "Epoch 12/100\n",
            "11/11 [==============================] - 0s 5ms/step - loss: 72.1180 - mae: 6.1703 - val_loss: 82.5466 - val_mae: 6.5186\n",
            "Epoch 13/100\n",
            "11/11 [==============================] - 0s 5ms/step - loss: 65.0377 - mae: 5.8270 - val_loss: 78.3996 - val_mae: 6.1946\n",
            "Epoch 14/100\n",
            "11/11 [==============================] - 0s 5ms/step - loss: 59.7624 - mae: 5.4206 - val_loss: 75.3737 - val_mae: 5.9394\n",
            "Epoch 15/100\n",
            "11/11 [==============================] - 0s 5ms/step - loss: 55.6746 - mae: 5.2989 - val_loss: 71.1792 - val_mae: 6.0929\n",
            "Epoch 16/100\n",
            "11/11 [==============================] - 0s 5ms/step - loss: 52.4770 - mae: 5.1311 - val_loss: 69.4428 - val_mae: 5.8735\n",
            "Epoch 17/100\n",
            "11/11 [==============================] - 0s 5ms/step - loss: 49.8692 - mae: 4.9277 - val_loss: 67.0868 - val_mae: 5.8615\n",
            "Epoch 18/100\n",
            "11/11 [==============================] - 0s 5ms/step - loss: 48.0211 - mae: 4.9235 - val_loss: 64.5481 - val_mae: 5.9356\n",
            "Epoch 19/100\n",
            "11/11 [==============================] - 0s 5ms/step - loss: 45.8082 - mae: 4.7715 - val_loss: 63.8993 - val_mae: 5.6499\n",
            "Epoch 20/100\n",
            "11/11 [==============================] - 0s 5ms/step - loss: 44.1232 - mae: 4.6209 - val_loss: 61.8444 - val_mae: 5.6236\n",
            "Epoch 21/100\n",
            "11/11 [==============================] - 0s 7ms/step - loss: 42.3848 - mae: 4.5116 - val_loss: 60.4155 - val_mae: 5.5225\n",
            "Epoch 22/100\n",
            "11/11 [==============================] - 0s 6ms/step - loss: 40.9808 - mae: 4.5199 - val_loss: 57.6232 - val_mae: 5.6546\n",
            "Epoch 23/100\n",
            "11/11 [==============================] - 0s 6ms/step - loss: 39.1279 - mae: 4.3756 - val_loss: 57.6224 - val_mae: 5.2969\n",
            "Epoch 24/100\n",
            "11/11 [==============================] - 0s 8ms/step - loss: 37.5362 - mae: 4.2046 - val_loss: 55.4360 - val_mae: 5.2938\n",
            "Epoch 25/100\n",
            "11/11 [==============================] - 0s 6ms/step - loss: 35.9445 - mae: 4.2442 - val_loss: 52.8277 - val_mae: 5.3548\n",
            "Epoch 26/100\n",
            "11/11 [==============================] - 0s 6ms/step - loss: 34.4594 - mae: 4.1445 - val_loss: 52.4001 - val_mae: 5.1058\n",
            "Epoch 27/100\n",
            "11/11 [==============================] - 0s 6ms/step - loss: 32.8090 - mae: 3.9150 - val_loss: 51.7139 - val_mae: 4.9623\n",
            "Epoch 28/100\n",
            "11/11 [==============================] - 0s 6ms/step - loss: 31.1876 - mae: 3.8299 - val_loss: 49.0704 - val_mae: 4.9776\n",
            "Epoch 29/100\n",
            "11/11 [==============================] - 0s 5ms/step - loss: 29.9506 - mae: 3.8585 - val_loss: 47.3386 - val_mae: 4.8929\n",
            "Epoch 30/100\n",
            "11/11 [==============================] - 0s 7ms/step - loss: 28.4945 - mae: 3.6627 - val_loss: 47.8891 - val_mae: 4.7530\n",
            "Epoch 31/100\n",
            "11/11 [==============================] - 0s 8ms/step - loss: 27.3116 - mae: 3.5821 - val_loss: 45.4383 - val_mae: 4.7387\n",
            "Epoch 32/100\n",
            "11/11 [==============================] - 0s 5ms/step - loss: 26.0548 - mae: 3.5312 - val_loss: 44.0447 - val_mae: 4.7156\n",
            "Epoch 33/100\n",
            "11/11 [==============================] - 0s 6ms/step - loss: 25.0183 - mae: 3.3813 - val_loss: 44.1512 - val_mae: 4.6644\n",
            "Epoch 34/100\n",
            "11/11 [==============================] - 0s 6ms/step - loss: 23.8852 - mae: 3.3259 - val_loss: 41.6350 - val_mae: 4.6521\n",
            "Epoch 35/100\n",
            "11/11 [==============================] - 0s 6ms/step - loss: 23.1289 - mae: 3.3015 - val_loss: 41.6223 - val_mae: 4.6056\n",
            "Epoch 36/100\n",
            "11/11 [==============================] - 0s 5ms/step - loss: 22.2864 - mae: 3.2138 - val_loss: 40.0174 - val_mae: 4.5636\n",
            "Epoch 37/100\n",
            "11/11 [==============================] - 0s 9ms/step - loss: 21.7813 - mae: 3.1462 - val_loss: 41.5583 - val_mae: 4.4949\n",
            "Epoch 38/100\n",
            "11/11 [==============================] - 0s 6ms/step - loss: 20.7179 - mae: 3.0823 - val_loss: 38.5005 - val_mae: 4.4780\n",
            "Epoch 39/100\n",
            "11/11 [==============================] - 0s 7ms/step - loss: 20.4064 - mae: 3.1405 - val_loss: 38.4411 - val_mae: 4.4287\n",
            "Epoch 40/100\n",
            "11/11 [==============================] - 0s 6ms/step - loss: 19.8812 - mae: 3.0205 - val_loss: 39.4373 - val_mae: 4.3783\n",
            "Epoch 41/100\n",
            "11/11 [==============================] - 0s 6ms/step - loss: 19.4077 - mae: 2.9684 - val_loss: 38.7667 - val_mae: 4.3248\n",
            "Epoch 42/100\n",
            "11/11 [==============================] - 0s 7ms/step - loss: 19.0670 - mae: 3.0018 - val_loss: 37.0264 - val_mae: 4.2835\n",
            "Epoch 43/100\n",
            "11/11 [==============================] - 0s 7ms/step - loss: 18.8262 - mae: 2.9646 - val_loss: 37.4564 - val_mae: 4.2216\n",
            "Epoch 44/100\n",
            "11/11 [==============================] - 0s 7ms/step - loss: 18.4423 - mae: 2.9189 - val_loss: 38.1530 - val_mae: 4.2010\n",
            "Epoch 45/100\n",
            "11/11 [==============================] - 0s 6ms/step - loss: 18.2291 - mae: 2.8852 - val_loss: 36.9790 - val_mae: 4.1575\n",
            "Epoch 46/100\n",
            "11/11 [==============================] - 0s 5ms/step - loss: 18.0240 - mae: 2.8932 - val_loss: 36.6523 - val_mae: 4.1224\n",
            "Epoch 47/100\n",
            "11/11 [==============================] - 0s 5ms/step - loss: 17.6898 - mae: 2.8581 - val_loss: 35.4843 - val_mae: 4.0708\n",
            "Epoch 48/100\n",
            "11/11 [==============================] - 0s 5ms/step - loss: 17.4624 - mae: 2.8460 - val_loss: 36.8156 - val_mae: 4.0541\n",
            "Epoch 49/100\n",
            "11/11 [==============================] - 0s 5ms/step - loss: 17.2922 - mae: 2.8076 - val_loss: 34.4643 - val_mae: 4.0078\n",
            "Epoch 50/100\n",
            "11/11 [==============================] - 0s 7ms/step - loss: 17.1327 - mae: 2.8202 - val_loss: 35.7427 - val_mae: 3.9823\n",
            "Epoch 51/100\n",
            "11/11 [==============================] - 0s 6ms/step - loss: 16.9670 - mae: 2.7654 - val_loss: 34.4641 - val_mae: 3.9254\n",
            "Epoch 52/100\n",
            "11/11 [==============================] - 0s 5ms/step - loss: 16.8654 - mae: 2.7995 - val_loss: 33.6710 - val_mae: 3.8995\n",
            "Epoch 53/100\n",
            "11/11 [==============================] - 0s 7ms/step - loss: 16.6948 - mae: 2.7795 - val_loss: 34.6061 - val_mae: 3.8767\n",
            "Epoch 54/100\n",
            "11/11 [==============================] - 0s 5ms/step - loss: 16.4446 - mae: 2.7535 - val_loss: 34.0227 - val_mae: 3.8421\n",
            "Epoch 55/100\n",
            "11/11 [==============================] - 0s 6ms/step - loss: 16.3629 - mae: 2.7598 - val_loss: 34.8519 - val_mae: 3.8523\n",
            "Epoch 56/100\n",
            "11/11 [==============================] - 0s 5ms/step - loss: 16.4038 - mae: 2.7273 - val_loss: 33.6377 - val_mae: 3.7858\n",
            "Epoch 57/100\n",
            "11/11 [==============================] - 0s 5ms/step - loss: 16.1505 - mae: 2.7226 - val_loss: 34.7607 - val_mae: 3.8089\n",
            "Epoch 58/100\n",
            "11/11 [==============================] - 0s 5ms/step - loss: 15.9569 - mae: 2.6928 - val_loss: 32.4485 - val_mae: 3.7027\n",
            "Epoch 59/100\n",
            "11/11 [==============================] - 0s 5ms/step - loss: 15.8625 - mae: 2.7129 - val_loss: 33.2411 - val_mae: 3.7136\n",
            "Epoch 60/100\n",
            "11/11 [==============================] - 0s 5ms/step - loss: 15.7847 - mae: 2.6739 - val_loss: 32.5032 - val_mae: 3.6492\n",
            "Epoch 61/100\n",
            "11/11 [==============================] - 0s 6ms/step - loss: 15.6779 - mae: 2.6905 - val_loss: 33.1468 - val_mae: 3.6680\n",
            "Epoch 62/100\n",
            "11/11 [==============================] - 0s 11ms/step - loss: 15.6201 - mae: 2.6729 - val_loss: 31.8862 - val_mae: 3.5940\n",
            "Epoch 63/100\n",
            "11/11 [==============================] - 0s 10ms/step - loss: 15.4337 - mae: 2.6704 - val_loss: 32.2141 - val_mae: 3.5951\n",
            "Epoch 64/100\n",
            "11/11 [==============================] - 0s 11ms/step - loss: 15.4474 - mae: 2.6297 - val_loss: 31.2173 - val_mae: 3.5300\n",
            "Epoch 65/100\n",
            "11/11 [==============================] - 0s 11ms/step - loss: 15.2856 - mae: 2.6359 - val_loss: 31.0035 - val_mae: 3.5001\n",
            "Epoch 66/100\n",
            "11/11 [==============================] - 0s 11ms/step - loss: 15.2518 - mae: 2.6650 - val_loss: 31.7877 - val_mae: 3.5111\n",
            "Epoch 67/100\n",
            "11/11 [==============================] - 0s 9ms/step - loss: 15.0868 - mae: 2.6161 - val_loss: 31.1812 - val_mae: 3.4740\n",
            "Epoch 68/100\n",
            "11/11 [==============================] - 0s 9ms/step - loss: 15.0093 - mae: 2.6079 - val_loss: 31.5200 - val_mae: 3.4629\n",
            "Epoch 69/100\n",
            "11/11 [==============================] - 0s 7ms/step - loss: 14.9972 - mae: 2.5843 - val_loss: 29.4018 - val_mae: 3.3865\n",
            "Epoch 70/100\n",
            "11/11 [==============================] - 0s 9ms/step - loss: 14.9583 - mae: 2.6697 - val_loss: 30.4053 - val_mae: 3.3960\n",
            "Epoch 71/100\n",
            "11/11 [==============================] - 0s 8ms/step - loss: 14.9516 - mae: 2.5815 - val_loss: 30.2003 - val_mae: 3.3956\n",
            "Epoch 72/100\n",
            "11/11 [==============================] - 0s 8ms/step - loss: 14.7240 - mae: 2.6012 - val_loss: 28.9391 - val_mae: 3.3445\n",
            "Epoch 73/100\n",
            "11/11 [==============================] - 0s 8ms/step - loss: 14.5935 - mae: 2.6119 - val_loss: 30.5583 - val_mae: 3.3650\n",
            "Epoch 74/100\n",
            "11/11 [==============================] - 0s 8ms/step - loss: 14.5511 - mae: 2.5630 - val_loss: 29.0692 - val_mae: 3.3247\n",
            "Epoch 75/100\n",
            "11/11 [==============================] - 0s 9ms/step - loss: 14.5393 - mae: 2.5981 - val_loss: 29.3759 - val_mae: 3.2985\n",
            "Epoch 76/100\n",
            "11/11 [==============================] - 0s 11ms/step - loss: 14.3785 - mae: 2.5923 - val_loss: 28.4929 - val_mae: 3.2668\n",
            "Epoch 77/100\n",
            "11/11 [==============================] - 0s 9ms/step - loss: 14.4895 - mae: 2.5657 - val_loss: 28.4477 - val_mae: 3.2603\n",
            "Epoch 78/100\n",
            "11/11 [==============================] - 0s 10ms/step - loss: 14.3950 - mae: 2.6263 - val_loss: 30.5447 - val_mae: 3.3397\n",
            "Epoch 79/100\n",
            "11/11 [==============================] - 0s 11ms/step - loss: 14.5204 - mae: 2.5559 - val_loss: 27.8915 - val_mae: 3.2465\n",
            "Epoch 80/100\n",
            "11/11 [==============================] - 0s 10ms/step - loss: 14.0483 - mae: 2.5609 - val_loss: 28.2602 - val_mae: 3.2466\n",
            "Epoch 81/100\n",
            "11/11 [==============================] - 0s 10ms/step - loss: 13.9768 - mae: 2.4886 - val_loss: 28.2721 - val_mae: 3.2171\n",
            "Epoch 82/100\n",
            "11/11 [==============================] - 0s 8ms/step - loss: 14.0563 - mae: 2.5740 - val_loss: 28.2398 - val_mae: 3.2016\n",
            "Epoch 83/100\n",
            "11/11 [==============================] - 0s 10ms/step - loss: 13.8953 - mae: 2.4984 - val_loss: 27.9368 - val_mae: 3.1935\n",
            "Epoch 84/100\n",
            "11/11 [==============================] - 0s 17ms/step - loss: 13.9431 - mae: 2.4922 - val_loss: 27.8261 - val_mae: 3.1922\n",
            "Epoch 85/100\n",
            "11/11 [==============================] - 0s 10ms/step - loss: 13.7945 - mae: 2.5382 - val_loss: 27.1671 - val_mae: 3.1644\n",
            "Epoch 86/100\n",
            "11/11 [==============================] - 0s 9ms/step - loss: 13.5872 - mae: 2.4801 - val_loss: 28.2598 - val_mae: 3.1813\n",
            "Epoch 87/100\n",
            "11/11 [==============================] - 0s 10ms/step - loss: 13.5620 - mae: 2.4727 - val_loss: 27.2758 - val_mae: 3.1285\n",
            "Epoch 88/100\n",
            "11/11 [==============================] - 0s 9ms/step - loss: 13.5134 - mae: 2.4961 - val_loss: 26.3459 - val_mae: 3.0902\n",
            "Epoch 89/100\n",
            "11/11 [==============================] - 0s 6ms/step - loss: 13.7188 - mae: 2.4879 - val_loss: 26.1659 - val_mae: 3.0613\n",
            "Epoch 90/100\n",
            "11/11 [==============================] - 0s 4ms/step - loss: 13.5788 - mae: 2.4847 - val_loss: 26.8725 - val_mae: 3.0933\n",
            "Epoch 91/100\n",
            "11/11 [==============================] - 0s 5ms/step - loss: 13.2992 - mae: 2.4982 - val_loss: 25.5381 - val_mae: 3.0543\n",
            "Epoch 92/100\n",
            "11/11 [==============================] - 0s 5ms/step - loss: 13.4526 - mae: 2.4445 - val_loss: 26.5413 - val_mae: 3.0658\n",
            "Epoch 93/100\n",
            "11/11 [==============================] - 0s 6ms/step - loss: 13.2612 - mae: 2.5073 - val_loss: 25.6622 - val_mae: 3.0193\n",
            "Epoch 94/100\n",
            "11/11 [==============================] - 0s 5ms/step - loss: 13.6559 - mae: 2.4461 - val_loss: 24.9071 - val_mae: 3.0409\n",
            "Epoch 95/100\n",
            "11/11 [==============================] - 0s 5ms/step - loss: 13.0018 - mae: 2.4522 - val_loss: 25.6359 - val_mae: 3.0177\n",
            "Epoch 96/100\n",
            "11/11 [==============================] - 0s 5ms/step - loss: 12.9418 - mae: 2.4468 - val_loss: 25.4856 - val_mae: 3.0011\n",
            "Epoch 97/100\n",
            "11/11 [==============================] - 0s 5ms/step - loss: 12.9704 - mae: 2.4089 - val_loss: 25.2430 - val_mae: 2.9807\n",
            "Epoch 98/100\n",
            "11/11 [==============================] - 0s 5ms/step - loss: 12.8195 - mae: 2.4306 - val_loss: 25.1820 - val_mae: 2.9639\n",
            "Epoch 99/100\n",
            "11/11 [==============================] - 0s 5ms/step - loss: 12.8479 - mae: 2.3881 - val_loss: 24.9002 - val_mae: 2.9415\n",
            "Epoch 100/100\n",
            "11/11 [==============================] - 0s 5ms/step - loss: 12.6435 - mae: 2.4026 - val_loss: 24.9217 - val_mae: 2.9303\n"
          ]
        }
      ],
      "source": [
        "history = model.fit(X_train, y_train, epochs=100, validation_split=0.05, verbose = 1)"
      ]
    },
    {
      "cell_type": "code",
      "execution_count": 6,
      "metadata": {
        "colab": {
          "base_uri": "https://localhost:8080/"
        },
        "id": "MzY8zjL5s9jS",
        "outputId": "53869480-1908-43a0-a5f4-1fdb9a646dd1"
      },
      "outputs": [
        {
          "output_type": "stream",
          "name": "stdout",
          "text": [
            "5/5 [==============================] - 0s 7ms/step - loss: 23.0811 - mae: 3.1132\n",
            "Mean squared error on test data:  23.081148147583008\n",
            "Mean absolute error on test data:  3.11320424079895\n"
          ]
        }
      ],
      "source": [
        "mse_nn, mae_nn = model.evaluate(X_test, y_test)\n",
        "\n",
        "print('Mean squared error on test data: ', mse_nn)\n",
        "print('Mean absolute error on test data: ', mae_nn)"
      ]
    },
    {
      "cell_type": "code",
      "source": [],
      "metadata": {
        "id": "SW4SyfvX-vqC"
      },
      "execution_count": null,
      "outputs": []
    }
  ],
  "metadata": {
    "colab": {
      "provenance": []
    },
    "kernelspec": {
      "display_name": "Python 3",
      "name": "python3"
    },
    "language_info": {
      "codemirror_mode": {
        "name": "ipython",
        "version": 3
      },
      "file_extension": ".py",
      "mimetype": "text/x-python",
      "name": "python",
      "nbconvert_exporter": "python",
      "pygments_lexer": "ipython3",
      "version": "3.11.2"
    }
  },
  "nbformat": 4,
  "nbformat_minor": 0
}